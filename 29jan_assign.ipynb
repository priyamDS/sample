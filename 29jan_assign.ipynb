{
 "cells": [
  {
   "cell_type": "markdown",
   "id": "a8ddb855-d9e0-4f04-b104-ecf441963d8f",
   "metadata": {},
   "source": [
    "# Assignment - 29 Jan 2023"
   ]
  },
  {
   "cell_type": "markdown",
   "id": "f181ef62-2ce5-4e0e-b695-57544ac391c3",
   "metadata": {},
   "source": [
    "1.)Python programming was designed by Guido van Rossum.Its first version was launched back in 1991."
   ]
  },
  {
   "cell_type": "markdown",
   "id": "6b1544c4-10d5-45d3-9ed6-eb2a00ef331b",
   "metadata": {},
   "source": [
    "2.) Python programming is a dynamic programmic language and supports the multiple paradigms i.e. procedural, object oriented and functional programming. "
   ]
  },
  {
   "cell_type": "markdown",
   "id": "34bea2b6-53c0-4fa3-83f9-baf957cfc602",
   "metadata": {},
   "source": [
    "3.) Identifier is a name used to identify a variable, function or class. In Python programming language identifiers are case sensitive."
   ]
  },
  {
   "cell_type": "markdown",
   "id": "d08b61f2-9f3f-4fdd-9704-f28f3ba52669",
   "metadata": {},
   "source": [
    "4.) The default extension of python file is .py "
   ]
  },
  {
   "cell_type": "markdown",
   "id": "04f81bdb-13c9-474f-afba-2425910a0aa8",
   "metadata": {},
   "source": [
    "5.) Python is a interpreted language.\n"
   ]
  },
  {
   "cell_type": "markdown",
   "id": "7c515ea0-90e4-494b-80b4-7c07969d43f8",
   "metadata": {},
   "source": [
    "6.) The following are the blocks: a module, a function body, and a class definition. "
   ]
  },
  {
   "cell_type": "markdown",
   "id": "3b19fd4b-576d-4a98-a60c-64fa3434b1f3",
   "metadata": {},
   "source": [
    "7.) \"#\" is used for single line comment."
   ]
  },
  {
   "cell_type": "markdown",
   "id": "c3330c8c-3def-45d6-9cb6-e601a8313076",
   "metadata": {},
   "source": [
    "8.) The functions that can be used to find the versions of python are:\n",
    "\n"
   ]
  },
  {
   "cell_type": "code",
   "execution_count": null,
   "id": "11532b25-3c9f-46b3-8140-6cc171298c61",
   "metadata": {},
   "outputs": [],
   "source": [
    "#a. By importing sys module\n",
    "import sys\n",
    "print(sys.version)\n",
    "\n",
    "#b. By importing platform module\n",
    "import platform\n",
    "print(platform.python_version())"
   ]
  },
  {
   "cell_type": "markdown",
   "id": "f00eb0e1-1107-405f-a3e1-4eaa355f0455",
   "metadata": {},
   "source": [
    "9.) lambda function"
   ]
  },
  {
   "cell_type": "markdown",
   "id": "751640e6-c767-4153-aba4-8f90fda79273",
   "metadata": {},
   "source": [
    "10.) pip stands for 'preferred installer program' that is used to install software packages written in python.\n"
   ]
  },
  {
   "cell_type": "markdown",
   "id": "238e5231-5490-4c8c-8c75-5a189dbce3c0",
   "metadata": {},
   "source": [
    "11.) Some builtin functions in python are:\n",
    "    len(),max(),min(),sort(),type(),list(),str(),map()......etc\n"
   ]
  },
  {
   "cell_type": "markdown",
   "id": "3b3c7291-eff3-4b7f-b77e-d57b2b7b5aac",
   "metadata": {},
   "source": [
    "12.) An identifier can have maximum length of 79 characters"
   ]
  },
  {
   "cell_type": "markdown",
   "id": "c60b6465-74e2-4bc5-90a9-25ade21a0aa4",
   "metadata": {},
   "source": [
    "13.) The benefits of python programming are:\n",
    "\n",
    "- __Easy to Learn and Use__: Python has a simple and straightforward syntax that makes it easy to learn for both beginners and experienced programmers. It also has a large and active community that provides a wealth of resources, tutorials, and support.\n",
    "\n",
    "- __Versatile__: Python can be used for a variety of applications, including web development, scientific computing, data analysis, machine learning, artificial intelligence, and more. This versatility makes it a valuable skill to have for a wide range of careers.\n",
    "\n",
    "- __High-Level Language__: Python is a high-level language that allows you to write code quickly and efficiently without having to worry about low-level details like memory management. This saves time and reduces the chances of bugs in your code.\n",
    "\n",
    "- __Large Standard Library__: Python has a large and comprehensive standard library that provides a wealth of pre-written code and tools for common tasks. This makes it easy to perform common programming tasks without having to write code from scratch.\n",
    "\n",
    "- __Dynamic Typing__: Python uses dynamic typing, which means you don't have to specify the data type of a variable before you use it. This makes it easier to write code and reduces the chances of bugs.\n",
    "\n",
    "- __Cross-Platform__: Python can run on a variety of operating systems, including Windows, MacOS, Linux, and more. This makes it a valuable tool for cross-platform development.\n",
    "\n",
    "- __Strong Community Support__: Python has a large and active community of users who provide support and resources. This makes it easy to find help when you need it and helps ensure the continued growth and development of the language.\n",
    "\n",
    "\n",
    "\n",
    "\n",
    "\n",
    "\n",
    " \n",
    "\n",
    "\n",
    "\n"
   ]
  },
  {
   "cell_type": "markdown",
   "id": "c647b346-3673-4517-8e37-b2212e9599e5",
   "metadata": {},
   "source": [
    "14.)  In Python, memory management is done automatically by the Python interpreter. Python uses a memory management system called reference counting to keep track of which objects are in use and to automatically deallocate objects that are no longer needed.\n",
    "\n",
    "When a Python object is created, the Python interpreter increases the reference count for that object. Each time another reference to that object is created, the reference count is incremented. When a reference to an object is deleted, the reference count is decremented. When the reference count reaches zero, the object is automatically deallocated and its memory is freed.\n",
    "\n",
    "In addition to reference counting, Python also uses a garbage collector to periodically reclaim memory occupied by objects that are no longer accessible from any part of the program. The garbage collector periodically scans the memory used by Python and frees the memory occupied by objects that are no longer accessible. This means that, in most cases, you do not need to worry about freeing memory in Python, as the garbage collector will take care of it for you.\n",
    "\n",
    "Overall, Python's memory management system is designed to be simple and efficient, allowing you to focus on writing code without worrying about managing memory. However, it is important to be aware of the limitations of the reference counting system, especially when dealing with circular references, which can cause memory leaks. In such cases, you may need to use weak references or explicit deallocation to manage memory more effectively.\n",
    "\n",
    "\n",
    "\n",
    "\n"
   ]
  },
  {
   "cell_type": "markdown",
   "id": "580bfc01-e934-469e-94d5-d814befa4e65",
   "metadata": {},
   "source": [
    "15.) The steps required to install python on windows are:-\n",
    "\n",
    "- Right-clicking This PC and going to Properties.\n",
    "\n",
    "- Clicking on the Advanced system settings in the menu on the left.\n",
    "\n",
    "- Clicking on the Environment Variables button o​n the bottom right.\n",
    "\n",
    "- In the System variables section, selecting the Path variable and clicking on Edit. The next screen will show all the directories that are currently a part of the PATH variable.\n",
    "\n",
    "- Clicking on New and entering Python’s install directory."
   ]
  },
  {
   "cell_type": "markdown",
   "id": "ec0c5746-53cd-4264-b980-ccda2c5ea96b",
   "metadata": {},
   "source": [
    "\n",
    "__16.)__ Indentation is required in python. In Python, unlike other programming languages, blocks of code are not enclosed in curly braces or other types of brackets. Instead, blocks of code are indicated by the indentation level.\n",
    "\n",
    "The indentation level determines the structure of the code and is used by the Python interpreter to determine which statements belong to which block of code. This means that incorrect indentation can cause syntax errors and lead to unexpected behavior.\n",
    "\n",
    "Therefore, it is important to maintain consistent indentation levels throughout your code and to ensure that the correct number of spaces is used for each level of indentation."
   ]
  },
  {
   "cell_type": "code",
   "execution_count": null,
   "id": "92e4d5d7-d8b1-483b-b143-777522d66320",
   "metadata": {},
   "outputs": [],
   "source": []
  }
 ],
 "metadata": {
  "kernelspec": {
   "display_name": "Python 3 (ipykernel)",
   "language": "python",
   "name": "python3"
  },
  "language_info": {
   "codemirror_mode": {
    "name": "ipython",
    "version": 3
   },
   "file_extension": ".py",
   "mimetype": "text/x-python",
   "name": "python",
   "nbconvert_exporter": "python",
   "pygments_lexer": "ipython3",
   "version": "3.10.8"
  }
 },
 "nbformat": 4,
 "nbformat_minor": 5
}
